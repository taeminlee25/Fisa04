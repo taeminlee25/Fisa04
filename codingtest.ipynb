{
 "cells": [
  {
   "cell_type": "code",
   "execution_count": null,
   "metadata": {},
   "outputs": [],
   "source": [
    "num = int(input())\n",
    "string = input()\n",
    "sum = 0\n",
    "for _ in range(num):\n",
    "    sum += int(string[_])\n",
    "print(sum)"
   ]
  },
  {
   "cell_type": "code",
   "execution_count": null,
   "metadata": {},
   "outputs": [],
   "source": [
    "# 1152번\n",
    "x = list(map(str,input().split()))\n",
    "print(len(x))"
   ]
  },
  {
   "cell_type": "code",
   "execution_count": null,
   "metadata": {},
   "outputs": [],
   "source": [
    "num = int(input())\n",
    "for _ in range(num):\n",
    "    iter_ , string = input().split(' ')\n",
    "    print(''.join([i * int(iter_) for i in string]))"
   ]
  },
  {
   "cell_type": "code",
   "execution_count": null,
   "metadata": {},
   "outputs": [],
   "source": [
    "string = input()\n",
    "from string import ascii_lowercase\n",
    "alpha_list = list(ascii_lowercase)\n",
    "for i in alpha_list:\n",
    "    print(string.find(i), end=' ')"
   ]
  },
  {
   "cell_type": "code",
   "execution_count": null,
   "metadata": {},
   "outputs": [],
   "source": [
    "# 2908번\n",
    "a, b = input().split()\n",
    "\n",
    "a, b = a[::-1], b[::-1]\n",
    "\n",
    "num = max(int(a), int(b))\n",
    "\n",
    "print(num)"
   ]
  },
  {
   "cell_type": "code",
   "execution_count": null,
   "metadata": {},
   "outputs": [],
   "source": [
    "# 5622\n",
    "li = ['ABC', 'DEF', 'GHI', 'JKL', 'MNO', 'PQRS', 'TUV', 'WXYZ']\n",
    "string = input()\n",
    "time = 0\n",
    "for i in range(len(string)):\n",
    "    for j in li:\n",
    "        if string[i] in j:\n",
    "            time = time + li.index(j) + 3\n",
    "print(time)"
   ]
  },
  {
   "cell_type": "code",
   "execution_count": null,
   "metadata": {},
   "outputs": [],
   "source": [
    "# 11718번\n",
    "while True:\n",
    "    try:\n",
    "        print(input())\n",
    "    except EOFError:\n",
    "        break"
   ]
  },
  {
   "cell_type": "code",
   "execution_count": 46,
   "metadata": {},
   "outputs": [],
   "source": [
    "import time\n",
    "\n",
    "def timer(fn_):\n",
    "    def wrapper():\n",
    "        str_time = time.time()\n",
    "        print(\"**********\")\n",
    "        fn_()\n",
    "        print(\"**********\")\n",
    "        end_time = time.time()\n",
    "        print(\"함수 실행 시간\", round(end_time - str_time, 3))\n",
    "    return wrapper\n",
    "\n",
    "@timer\n",
    "def hello():\n",
    "    for i in range(1000):\n",
    "        if i == 999:\n",
    "            print(\"안녕\")\n",
    "        else:\n",
    "            print(\"\", end = '')"
   ]
  },
  {
   "cell_type": "code",
   "execution_count": 47,
   "metadata": {},
   "outputs": [
    {
     "data": {
      "text/plain": [
       "<function __main__.timer.<locals>.wrapper()>"
      ]
     },
     "execution_count": 47,
     "metadata": {},
     "output_type": "execute_result"
    }
   ],
   "source": [
    "hello"
   ]
  },
  {
   "cell_type": "code",
   "execution_count": null,
   "metadata": {},
   "outputs": [
    {
     "name": "stdout",
     "output_type": "stream",
     "text": [
      "False\n"
     ]
    }
   ],
   "source": [
    "# 10988번 - 팰린드롬 문제\n",
    "\n",
    "string = input()\n",
    "\n",
    "li_ = []\n",
    "\n",
    "if len(string) % 2 == 0: # 문자열 길이가 짝수일 경우\n",
    "    for i in range(int(len(string)/2)):\n",
    "        if string[i] == string[-1-1*i]:\n",
    "            li_.append(1)\n",
    "        else:\n",
    "            li_.append(0)   \n",
    "else:                    # 문자열 길이가 홀수일 경우\n",
    "    for i in range(int(len(string)/2)): \n",
    "        if string[i] == string[-1-1*i]:\n",
    "            li_.append(1)\n",
    "        else:\n",
    "            li_.append(0)\n",
    "\n",
    "print(all(li_)) \n",
    "\n",
    "\n",
    "# word = list(str(input()))\n",
    "\n",
    "# if list(reversed(word)) == word:\n",
    "#     print(1)\n",
    "# else:\n",
    "#     print(0)"
   ]
  },
  {
   "cell_type": "code",
   "execution_count": 18,
   "metadata": {},
   "outputs": [
    {
     "data": {
      "text/plain": [
       "['l', 'e', 'v', 'e', 'l']"
      ]
     },
     "execution_count": 18,
     "metadata": {},
     "output_type": "execute_result"
    }
   ],
   "source": [
    "list(reversed(list('level')))"
   ]
  },
  {
   "cell_type": "code",
   "execution_count": 51,
   "metadata": {},
   "outputs": [],
   "source": [
    "string = input()\n",
    "dict_string = {}\n",
    "\n",
    "for i in string:\n",
    "    if i in dict_string:\n",
    "        dict_string[i] += 1\n",
    "    else:\n",
    "        dict_string[i] = 1\n",
    "\n",
    "\n",
    "# words = input().upper()\n",
    "# unique_words = list(set(words))  # 입력받은 문자열에서 중복값을 제거\n",
    "\n",
    "# cnt_list = []\n",
    "# for x in unique_words :\n",
    "#     cnt = words.count(x)\n",
    "#     cnt_list.append(cnt)  # count 숫자를 리스트에 append\n",
    "\n",
    "# if cnt_list.count(max(cnt_list)) > 1 :  # count 숫자 최대값이 중복되면\n",
    "#     print('?')\n",
    "# else :\n",
    "#     max_index = cnt_list.index(max(cnt_list))  # count 숫자 최대값 인덱스(위치)\n",
    "#     print(unique_words[max_index])"
   ]
  },
  {
   "cell_type": "code",
   "execution_count": 60,
   "metadata": {},
   "outputs": [
    {
     "data": {
      "text/plain": [
       "True"
      ]
     },
     "execution_count": 60,
     "metadata": {},
     "output_type": "execute_result"
    }
   ],
   "source": [
    "'ABC'.lower() in ['abc']"
   ]
  }
 ],
 "metadata": {
  "kernelspec": {
   "display_name": "base",
   "language": "python",
   "name": "python3"
  },
  "language_info": {
   "codemirror_mode": {
    "name": "ipython",
    "version": 3
   },
   "file_extension": ".py",
   "mimetype": "text/x-python",
   "name": "python",
   "nbconvert_exporter": "python",
   "pygments_lexer": "ipython3",
   "version": "3.12.7"
  }
 },
 "nbformat": 4,
 "nbformat_minor": 2
}
