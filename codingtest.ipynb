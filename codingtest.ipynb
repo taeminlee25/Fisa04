{
 "cells": [
  {
   "cell_type": "code",
   "execution_count": null,
   "metadata": {},
   "outputs": [],
   "source": [
    "num = int(input())\n",
    "string = input()\n",
    "sum = 0\n",
    "for _ in range(num):\n",
    "    sum += int(string[_])\n",
    "print(sum)"
   ]
  },
  {
   "cell_type": "code",
   "execution_count": null,
   "metadata": {},
   "outputs": [],
   "source": [
    "# 1152번\n",
    "x = list(map(str,input().split()))\n",
    "print(len(x))"
   ]
  },
  {
   "cell_type": "code",
   "execution_count": null,
   "metadata": {},
   "outputs": [],
   "source": [
    "num = int(input())\n",
    "for _ in range(num):\n",
    "    iter_ , string = input().split(' ')\n",
    "    print(''.join([i * int(iter_) for i in string]))"
   ]
  },
  {
   "cell_type": "code",
   "execution_count": null,
   "metadata": {},
   "outputs": [],
   "source": [
    "string = input()\n",
    "from string import ascii_lowercase\n",
    "alpha_list = list(ascii_lowercase)\n",
    "for i in alpha_list:\n",
    "    print(string.find(i), end=' ')"
   ]
  },
  {
   "cell_type": "code",
   "execution_count": null,
   "metadata": {},
   "outputs": [],
   "source": [
    "# 2908번\n",
    "a, b = input().split()\n",
    "\n",
    "a, b = a[::-1], b[::-1]\n",
    "\n",
    "num = max(int(a), int(b))\n",
    "\n",
    "print(num)"
   ]
  },
  {
   "cell_type": "code",
   "execution_count": null,
   "metadata": {},
   "outputs": [],
   "source": [
    "# 5622\n",
    "li = ['ABC', 'DEF', 'GHI', 'JKL', 'MNO', 'PQRS', 'TUV', 'WXYZ']\n",
    "string = input()\n",
    "time = 0\n",
    "for i in range(len(string)):\n",
    "    for j in li:\n",
    "        if string[i] in j:\n",
    "            time = time + li.index(j) + 3\n",
    "print(time)"
   ]
  },
  {
   "cell_type": "code",
   "execution_count": null,
   "metadata": {},
   "outputs": [],
   "source": [
    "# 11718번\n",
    "while True:\n",
    "    try:\n",
    "        print(input())\n",
    "    except EOFError:\n",
    "        break"
   ]
  },
  {
   "cell_type": "code",
   "execution_count": 46,
   "metadata": {},
   "outputs": [],
   "source": [
    "import time\n",
    "\n",
    "def timer(fn_):\n",
    "    def wrapper():\n",
    "        str_time = time.time()\n",
    "        print(\"**********\")\n",
    "        fn_()\n",
    "        print(\"**********\")\n",
    "        end_time = time.time()\n",
    "        print(\"함수 실행 시간\", round(end_time - str_time, 3))\n",
    "    return wrapper\n",
    "\n",
    "@timer\n",
    "def hello():\n",
    "    for i in range(1000):\n",
    "        if i == 999:\n",
    "            print(\"안녕\")\n",
    "        else:\n",
    "            print(\"\", end = '')"
   ]
  },
  {
   "cell_type": "code",
   "execution_count": 47,
   "metadata": {},
   "outputs": [
    {
     "data": {
      "text/plain": [
       "<function __main__.timer.<locals>.wrapper()>"
      ]
     },
     "execution_count": 47,
     "metadata": {},
     "output_type": "execute_result"
    }
   ],
   "source": [
    "hello"
   ]
  },
  {
   "cell_type": "code",
   "execution_count": null,
   "metadata": {},
   "outputs": [
    {
     "name": "stdout",
     "output_type": "stream",
     "text": [
      "False\n"
     ]
    }
   ],
   "source": [
    "# 10988번 - 팰린드롬 문제\n",
    "\n",
    "string = input()\n",
    "\n",
    "li_ = []\n",
    "\n",
    "if len(string) % 2 == 0: # 문자열 길이가 짝수일 경우\n",
    "    for i in range(int(len(string)/2)):\n",
    "        if string[i] == string[-1-1*i]:\n",
    "            li_.append(1)\n",
    "        else:\n",
    "            li_.append(0)   \n",
    "else:                    # 문자열 길이가 홀수일 경우\n",
    "    for i in range(int(len(string)/2)): \n",
    "        if string[i] == string[-1-1*i]:\n",
    "            li_.append(1)\n",
    "        else:\n",
    "            li_.append(0)\n",
    "\n",
    "print(all(li_)) \n",
    "\n",
    "\n",
    "# word = list(str(input()))\n",
    "\n",
    "# if list(reversed(word)) == word:\n",
    "#     print(1)\n",
    "# else:\n",
    "#     print(0)"
   ]
  },
  {
   "cell_type": "code",
   "execution_count": 18,
   "metadata": {},
   "outputs": [
    {
     "data": {
      "text/plain": [
       "['l', 'e', 'v', 'e', 'l']"
      ]
     },
     "execution_count": 18,
     "metadata": {},
     "output_type": "execute_result"
    }
   ],
   "source": [
    "list(reversed(list('level')))"
   ]
  },
  {
   "cell_type": "code",
   "execution_count": 51,
   "metadata": {},
   "outputs": [],
   "source": [
    "string = input()\n",
    "dict_string = {}\n",
    "\n",
    "for i in string:\n",
    "    if i in dict_string:\n",
    "        dict_string[i] += 1\n",
    "    else:\n",
    "        dict_string[i] = 1\n",
    "\n",
    "\n",
    "# words = input().upper()\n",
    "# unique_words = list(set(words))  # 입력받은 문자열에서 중복값을 제거\n",
    "\n",
    "# cnt_list = []\n",
    "# for x in unique_words :\n",
    "#     cnt = words.count(x)\n",
    "#     cnt_list.append(cnt)  # count 숫자를 리스트에 append\n",
    "\n",
    "# if cnt_list.count(max(cnt_list)) > 1 :  # count 숫자 최대값이 중복되면\n",
    "#     print('?')\n",
    "# else :\n",
    "#     max_index = cnt_list.index(max(cnt_list))  # count 숫자 최대값 인덱스(위치)\n",
    "#     print(unique_words[max_index])"
   ]
  },
  {
   "cell_type": "code",
   "execution_count": 60,
   "metadata": {},
   "outputs": [
    {
     "data": {
      "text/plain": [
       "True"
      ]
     },
     "execution_count": 60,
     "metadata": {},
     "output_type": "execute_result"
    }
   ],
   "source": [
    "'ABC'.lower() in ['abc']"
   ]
  },
  {
   "cell_type": "code",
   "execution_count": 4,
   "metadata": {},
   "outputs": [
    {
     "name": "stdout",
     "output_type": "stream",
     "text": [
      "3\n"
     ]
    }
   ],
   "source": [
    "# 1978번\n",
    "\n",
    "'''문제\n",
    "주어진 수 N개 중에서 소수가 몇 개인지 찾아서 출력하는 프로그램을 작성하시오.\n",
    "\n",
    "입력\n",
    "첫 줄에 수의 개수 N이 주어진다. N은 100이하이다. 다음으로 N개의 수가 주어지는데 수는 1,000 이하의 자연수이다.\n",
    "\n",
    "출력\n",
    "주어진 수들 중 소수의 개수를 출력한다.'''\n",
    "\n",
    "num = int(input())\n",
    "\n",
    "num_li = map(int, input().split())\n",
    "\n",
    "# 소수는 1과 자기자신만을 약수로 가지는 수이다.\n",
    "def get_division(n):\n",
    "    li_ = set()\n",
    "    for i in range(1, n+1):\n",
    "        if n % i == 0:\n",
    "            li_.add(i)\n",
    "    return li_\n",
    "\n",
    "count = 0\n",
    "\n",
    "for j in num_li:\n",
    "    j_set = get_division(j)\n",
    "    if len(j_set) == 2:\n",
    "        count += 1\n",
    "print(count)"
   ]
  },
  {
   "cell_type": "code",
   "execution_count": 1,
   "metadata": {},
   "outputs": [
    {
     "name": "stdout",
     "output_type": "stream",
     "text": [
      "2\n",
      "2\n",
      "2\n",
      "3\n",
      "3\n"
     ]
    }
   ],
   "source": [
    "# 11653번\n",
    "'''\n",
    "문제\n",
    "정수 N이 주어졌을 때, 소인수분해하는 프로그램을 작성하시오.\n",
    "\n",
    "입력\n",
    "첫째 줄에 정수 N (1 ≤ N ≤ 10,000,000)이 주어진다.\n",
    "\n",
    "출력\n",
    "N의 소인수분해 결과를 한 줄에 하나씩 오름차순으로 출력한다. N이 1인 경우 아무것도 출력하지 않는다.\n",
    "'''\n",
    "\n",
    "n = int(input())\n",
    "\n",
    "def get_primes(n):\n",
    "    primes = []\n",
    "    for i in range(2, n + 1):\n",
    "        while n % i == 0:\n",
    "            primes.append(i)\n",
    "            n //= i\n",
    "    return primes\n",
    "\n",
    "for j in get_primes(n): print(j)"
   ]
  },
  {
   "cell_type": "code",
   "execution_count": 40,
   "metadata": {},
   "outputs": [
    {
     "name": "stdout",
     "output_type": "stream",
     "text": [
      "6\n"
     ]
    }
   ],
   "source": [
    "# 2960 번\n",
    "'''\n",
    "문제\n",
    "에라토스테네스의 체는 N보다 작거나 같은 모든 소수를 찾는 유명한 알고리즘이다.\n",
    "\n",
    "이 알고리즘은 다음과 같다.\n",
    "\n",
    "2부터 N까지 모든 정수를 적는다.\n",
    "아직 지우지 않은 수 중 가장 작은 수를 찾는다. 이것을 P라고 하고, 이 수는 소수이다.\n",
    "P를 지우고, 아직 지우지 않은 P의 배수를 크기 순서대로 지운다.\n",
    "아직 모든 수를 지우지 않았다면, 다시 2번 단계로 간다.\n",
    "N, K가 주어졌을 때, K번째 지우는 수를 구하는 프로그램을 작성하시오.\n",
    "\n",
    "입력\n",
    "첫째 줄에 N과 K가 주어진다. (1 ≤ K < N, max(1, K) < N ≤ 1000)\n",
    "'''\n",
    "\n",
    "n, k = map(int, input().split())\n",
    "\n",
    "li_ = [True] * (n + 1) # 1, 1, 1, 1, 1, 1___if n == 5 이면\n",
    "                       # 1, 0, 1, 1, 1, 1   # 1은 소수 아님.\n",
    "                       # 0, 1, 2, 3, 4, 5 \n",
    "li_[0] = li_[1] = False \n",
    "\n",
    "count = 0  # 지운 숫자의 순서를 기록\n",
    "result = -1  # K번째 지워진 숫자를 저장할 변수\n",
    "\n",
    "for i in range(2, n + 1):\n",
    "    if li_[i]:  # 아직 지우지 않은 숫자인 경우\n",
    "        for j in range(i, n + 1, i):  # 배수를 탐색\n",
    "            if li_[j]:  # 아직 지우지 않았다면\n",
    "                li_[j] = False  # 숫자를 지우고\n",
    "                count += 1  # 지운 숫자 카운트 증가\n",
    "                if count == k:  # K번째로 지운 숫자를 찾은 경우\n",
    "                    result = j  # 해당 숫자를 저장\n",
    "                    break\n",
    "        if count == k:  # 루프를 나가는 조건\n",
    "            break\n",
    "\n",
    "print(result)  # 결과 출력"
   ]
  },
  {
   "cell_type": "code",
   "execution_count": 63,
   "metadata": {},
   "outputs": [
    {
     "name": "stdout",
     "output_type": "stream",
     "text": [
      "14491\n"
     ]
    }
   ],
   "source": [
    "# 15736번\n",
    "'''\n",
    "문제\n",
    "소프트웨어융합대학 학생회에서 주최한 소융체전에서 청기 백기 뒤집기 게임이 한창이다. 소프트웨어학부, ICT융합학부가 번갈아가면서 게임을 진행하는 중이다. 게임의 규칙은 간단하다. 게임을 진행할 차례인 학부에서 출전한 선수들 N명이 존재한다. 학생들의 앞 탁자에는 N개의 깃발이 청색이 위로 백색이 아래로 보이도록 놓여있다. 이때 출전한 선수 중 첫 번째 선수는 N개의 깃발 중 1의 배수에 해당하는 번호의 깃발을 뒤집어 놓는다. 다음 두 번째 선수는 N개의 깃발 중 2의 배수에 해당하는 번호의 깃발을 뒤집어 놓는다. i 번째 선수는 i의 배수에 해당하는 번호의 깃발을 뒤집고, N 번째 선수까지 진행하면 끝이 난다. 그렇다면 이 게임에서 N 명의 선수가 참가하고 N개의 깃발이 존재할 때, N 번째 선수까지 진행하여 완료된 상태에서 백색이 위로 놓여있는 깃발의 수가 몇 개인지 알아보자.\n",
    "\n",
    "입력\n",
    "첫 번째 줄에 출전한 학생의 수이자, 깃발의 개수인 N(1 ≤ N ≤ 2,100,000,000)이 주어진다.\n",
    "\n",
    "출력\n",
    "첫 번째 줄에 N 번째 선수까지 진행한 후의 상태의 깃발 중 백색이 위로 놓여있는 깃발의 수를 출력한다.\n",
    "'''\n",
    "\n",
    "''' 첫번째 시도 -> 메모리 초과\n",
    "n = int(input())\n",
    "\n",
    "flag_li = ['청'] * n\n",
    "\n",
    "for i in range(1, n + 1):\n",
    "    for j in range(i, n + 1, i):\n",
    "        if flag_li[j - 1] == '청':\n",
    "            flag_li[j - 1] = '백'\n",
    "        else:\n",
    "            flag_li[j - 1] = '청'\n",
    "\n",
    "\n",
    "print(flag_li.count('백'))\n",
    "'''\n",
    "\n",
    "# 풀이 2 -> 시간초과 걸림.\n",
    "\n",
    "# 각 자리는 약수의 개수만큼 바뀜.\n",
    "# 약수의 개수가 짝수이면 그대로 청, 홀수이면 백임.\n",
    "# %time\n",
    "# n = int(input())\n",
    "# # 약수 구하는 함수\n",
    "# def get_primes(n):\n",
    "#     set_ = set()\n",
    "#     for i in range(1, n + 1):\n",
    "#         if n % i == 0:\n",
    "#             set_.add(i)\n",
    "#     return set_\n",
    "\n",
    "# primes_count_li = []\n",
    "# for i in range(n):\n",
    "#     primes_count_li.append(len(get_primes(i)))\n",
    "\n",
    "# even_count = 0\n",
    "# for j in primes_count_li:\n",
    "#     if j % 2 != 0:\n",
    "#         even_count += 1\n",
    "# print(even_count)\n",
    "\n",
    "# 정답이래요~\n",
    "import math\n",
    "\n",
    "N = int(input())\n",
    "\n",
    "print(int(math.sqrt(N)))"
   ]
  }
 ],
 "metadata": {
  "kernelspec": {
   "display_name": "base",
   "language": "python",
   "name": "python3"
  },
  "language_info": {
   "codemirror_mode": {
    "name": "ipython",
    "version": 3
   },
   "file_extension": ".py",
   "mimetype": "text/x-python",
   "name": "python",
   "nbconvert_exporter": "python",
   "pygments_lexer": "ipython3",
   "version": "3.12.7"
  }
 },
 "nbformat": 4,
 "nbformat_minor": 2
}
